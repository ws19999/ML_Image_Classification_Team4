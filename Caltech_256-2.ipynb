{
  "nbformat": 4,
  "nbformat_minor": 0,
  "metadata": {
    "colab": {
      "provenance": [],
      "gpuType": "T4"
    },
    "kernelspec": {
      "name": "python3",
      "display_name": "Python 3"
    },
    "language_info": {
      "name": "python"
    },
    "accelerator": "GPU",
    "gpuClass": "standard"
  },
  "cells": [
    {
      "cell_type": "markdown",
      "source": [
        "Import necessary libraries"
      ],
      "metadata": {
        "id": "646fmvR09iz0"
      }
    },
    {
      "cell_type": "code",
      "source": [
        "import os\n",
        "import glob\n",
        "import numpy as np\n",
        "import tensorflow as tf\n",
        "from sklearn.model_selection import train_test_split\n",
        "from tensorflow.keras.preprocessing.image import ImageDataGenerator\n"
      ],
      "metadata": {
        "id": "voQtxENW9jnn"
      },
      "execution_count": 1,
      "outputs": []
    },
    {
      "cell_type": "markdown",
      "source": [
        "Download and extract the Caltech-256 dataset"
      ],
      "metadata": {
        "id": "5klfMydY9uoD"
      }
    },
    {
      "cell_type": "code",
      "source": [
        "!wget https://caltech256-bucket.s3.amazonaws.com/256_ObjectCategories.tar\n",
        "!tar -xf 256_ObjectCategories.tar\n",
        "\n"
      ],
      "metadata": {
        "colab": {
          "base_uri": "https://localhost:8080/"
        },
        "id": "DXHxu1tM9w8x",
        "outputId": "5f1cafe3-742f-4d5a-9686-9a06870c8991"
      },
      "execution_count": 2,
      "outputs": [
        {
          "output_type": "stream",
          "name": "stdout",
          "text": [
            "--2023-05-26 03:29:20--  https://caltech256-bucket.s3.amazonaws.com/256_ObjectCategories.tar\n",
            "Resolving caltech256-bucket.s3.amazonaws.com (caltech256-bucket.s3.amazonaws.com)... 52.217.132.249, 52.217.133.121, 52.216.113.59, ...\n",
            "Connecting to caltech256-bucket.s3.amazonaws.com (caltech256-bucket.s3.amazonaws.com)|52.217.132.249|:443... connected.\n",
            "HTTP request sent, awaiting response... 200 OK\n",
            "Length: 1183006720 (1.1G) [application/x-tar]\n",
            "Saving to: ‘256_ObjectCategories.tar.2’\n",
            "\n",
            "256_ObjectCategorie 100%[===================>]   1.10G  55.3MB/s    in 18s     \n",
            "\n",
            "2023-05-26 03:29:39 (61.6 MB/s) - ‘256_ObjectCategories.tar.2’ saved [1183006720/1183006720]\n",
            "\n"
          ]
        }
      ]
    },
    {
      "cell_type": "markdown",
      "source": [
        "Define dataset path and load the data"
      ],
      "metadata": {
        "id": "e7Pyb0iW9yMP"
      }
    },
    {
      "cell_type": "code",
      "source": [
        "import glob\n",
        "from sklearn.preprocessing import LabelEncoder\n",
        "\n",
        "dataset_path = './256_ObjectCategories'\n",
        "all_images = glob.glob(f'{dataset_path}/*/*.jpg')\n",
        "all_labels = [os.path.basename(os.path.dirname(img)) for img in all_images]\n",
        "\n",
        "# Train-test split\n",
        "train_images, test_images, train_labels, test_labels = train_test_split(all_images, all_labels, test_size=0.2, random_state=42, stratify=all_labels)\n"
      ],
      "metadata": {
        "id": "WsKiDLp59zQj"
      },
      "execution_count": 3,
      "outputs": []
    },
    {
      "cell_type": "markdown",
      "source": [
        "Create custom data generators"
      ],
      "metadata": {
        "id": "cWI2fLZS90yj"
      }
    },
    {
      "cell_type": "code",
      "source": [
        "img_size = 224\n",
        "batch_size = 32\n",
        "\n",
        "def train_data_generator(images, labels, batch_size):\n",
        "    encoder = LabelEncoder()\n",
        "    encoded_labels = encoder.fit_transform(labels)\n",
        "    num_classes = len(encoder.classes_)\n",
        "    \n",
        "    while True:\n",
        "        idx = np.random.permutation(len(images))\n",
        "        for i in range(0, len(images), batch_size):\n",
        "            batch_idx = idx[i:i+batch_size]\n",
        "            batch_images = [tf.keras.preprocessing.image.load_img(img, target_size=(img_size, img_size)) for img in np.array(images)[batch_idx]]\n",
        "            \n",
        "            batch_x = np.array([tf.keras.preprocessing.image.img_to_array(img,data_format='channels_last') for img in batch_images]) \n",
        "\n",
        "            batch_y = tf.keras.utils.to_categorical(encoded_labels[batch_idx], num_classes)\n",
        "\n",
        "            yield batch_x, batch_y\n",
        "\n",
        "def test_data_generator(images, labels, batch_size):\n",
        "    encoder = LabelEncoder()\n",
        "    encoded_labels = encoder.fit_transform(labels)\n",
        "    num_classes = len(encoder.classes_)\n",
        "    \n",
        "    while True:\n",
        "        idx = np.arange(len(images))\n",
        "        for i in range(0, len(images), batch_size):\n",
        "            batch_idx = idx[i:i+batch_size]\n",
        "            batch_images = [tf.keras.preprocessing.image.load_img(img, target_size=(img_size, img_size)) for img in np.array(images)[batch_idx]]\n",
        "            \n",
        "            batch_x = np.array([tf.keras.preprocessing.image.img_to_array(img,data_format='channels_last') for img in batch_images]) \n",
        "            batch_y = tf.keras.utils.to_categorical(encoded_labels[batch_idx], num_classes)\n",
        "            yield batch_x, batch_y\n",
        "\n",
        "train_generator = train_data_generator(train_images, train_labels, batch_size)\n",
        "test_generator = test_data_generator(test_images, test_labels, batch_size)"
      ],
      "metadata": {
        "id": "Gc6tqSlN92Lv"
      },
      "execution_count": 4,
      "outputs": []
    },
    {
      "cell_type": "markdown",
      "source": [
        "Define a simple CNN model"
      ],
      "metadata": {
        "id": "8ctxdY1E93P0"
      }
    },
    {
      "cell_type": "code",
      "source": [
        "from tensorflow.keras.applications.resnet50 import ResNet50\n",
        "from tensorflow.keras.applications.resnet50 import preprocess_input\n",
        "from tensorflow.keras import Input\n",
        "from tensorflow.keras.layers import Dense, Flatten, MaxPooling2D\n",
        "from tensorflow.keras.layers import Dropout, BatchNormalization\n",
        "\n",
        "base_model = ResNet50(include_top=False, pooling = 'avg', input_shape = (224, 224 ,3), weights = 'imagenet')\n",
        "base_model.trainable = False\n",
        "\n",
        "inputs = Input(shape=(224,224,3))\n",
        "x = tf.keras.layers.experimental.preprocessing.Resizing(224, 224)(inputs)\n",
        "x = tf.keras.applications.resnet50.preprocess_input(inputs)\n",
        "x = base_model(x, training = False)\n",
        "x = Flatten()(x)\n",
        "outputs = Dense(257, activation = 'softmax')(x)\n",
        "modeel_res = tf.keras.Model(inputs,outputs)"
      ],
      "metadata": {
        "id": "YACf126d94vr"
      },
      "execution_count": 5,
      "outputs": []
    },
    {
      "cell_type": "code",
      "source": [
        "modeel_res.summary()"
      ],
      "metadata": {
        "colab": {
          "base_uri": "https://localhost:8080/"
        },
        "id": "TUTRfXcwz32L",
        "outputId": "5855014b-f2ce-4960-a96a-a00a7b9901c7"
      },
      "execution_count": 6,
      "outputs": [
        {
          "output_type": "stream",
          "name": "stdout",
          "text": [
            "Model: \"model\"\n",
            "_________________________________________________________________\n",
            " Layer (type)                Output Shape              Param #   \n",
            "=================================================================\n",
            " input_2 (InputLayer)        [(None, 224, 224, 3)]     0         \n",
            "                                                                 \n",
            " tf.__operators__.getitem (S  (None, 224, 224, 3)      0         \n",
            " licingOpLambda)                                                 \n",
            "                                                                 \n",
            " tf.nn.bias_add (TFOpLambda)  (None, 224, 224, 3)      0         \n",
            "                                                                 \n",
            " resnet50 (Functional)       (None, 2048)              23587712  \n",
            "                                                                 \n",
            " flatten (Flatten)           (None, 2048)              0         \n",
            "                                                                 \n",
            " dense (Dense)               (None, 257)               526593    \n",
            "                                                                 \n",
            "=================================================================\n",
            "Total params: 24,114,305\n",
            "Trainable params: 526,593\n",
            "Non-trainable params: 23,587,712\n",
            "_________________________________________________________________\n"
          ]
        }
      ]
    },
    {
      "cell_type": "code",
      "source": [
        "from tensorflow.keras.optimizers.legacy import Adam\n",
        "modeel_res.compile(optimizer=Adam(learning_rate = 0.001), loss='categorical_crossentropy', metrics=['accuracy'])"
      ],
      "metadata": {
        "id": "wEkmTop3yxRA"
      },
      "execution_count": 7,
      "outputs": []
    },
    {
      "cell_type": "markdown",
      "source": [
        "Train the CNN model"
      ],
      "metadata": {
        "id": "F1VxvcgU-EsX"
      }
    },
    {
      "cell_type": "code",
      "source": [
        "epochs = 10\n",
        "steps_per_epoch = len(train_images) // batch_size\n",
        "validation_steps = len(test_images) // batch_size\n",
        "\n",
        "history = modeel_res.fit(train_generator, epochs=epochs,  steps_per_epoch = steps_per_epoch, validation_data=test_generator, validation_steps=validation_steps, verbose=1)\n"
      ],
      "metadata": {
        "colab": {
          "base_uri": "https://localhost:8080/"
        },
        "id": "QWnX1U3t9-z6",
        "outputId": "bd807cd2-90c8-4afc-c154-eb6eb7225c82"
      },
      "execution_count": 8,
      "outputs": [
        {
          "output_type": "stream",
          "name": "stdout",
          "text": [
            "Epoch 1/10\n",
            "765/765 [==============================] - 178s 223ms/step - loss: 1.4219 - accuracy: 0.6879 - val_loss: 0.8907 - val_accuracy: 0.7868\n",
            "Epoch 2/10\n",
            "765/765 [==============================] - 170s 222ms/step - loss: 0.3709 - accuracy: 0.8978 - val_loss: 0.8395 - val_accuracy: 0.7976\n",
            "Epoch 3/10\n",
            "765/765 [==============================] - 170s 222ms/step - loss: 0.1619 - accuracy: 0.9560 - val_loss: 0.8295 - val_accuracy: 0.8099\n",
            "Epoch 4/10\n",
            "765/765 [==============================] - 161s 211ms/step - loss: 0.0742 - accuracy: 0.9832 - val_loss: 0.8117 - val_accuracy: 0.8172\n",
            "Epoch 5/10\n",
            "765/765 [==============================] - 170s 223ms/step - loss: 0.0423 - accuracy: 0.9917 - val_loss: 0.8172 - val_accuracy: 0.8210\n",
            "Epoch 6/10\n",
            "765/765 [==============================] - 171s 224ms/step - loss: 0.0256 - accuracy: 0.9959 - val_loss: 0.8608 - val_accuracy: 0.8182\n",
            "Epoch 7/10\n",
            "765/765 [==============================] - 158s 206ms/step - loss: 0.0424 - accuracy: 0.9897 - val_loss: 1.0402 - val_accuracy: 0.8002\n",
            "Epoch 8/10\n",
            "765/765 [==============================] - 160s 209ms/step - loss: 0.0916 - accuracy: 0.9740 - val_loss: 1.1984 - val_accuracy: 0.7901\n",
            "Epoch 9/10\n",
            "765/765 [==============================] - 160s 210ms/step - loss: 0.0791 - accuracy: 0.9764 - val_loss: 1.2232 - val_accuracy: 0.7952\n",
            "Epoch 10/10\n",
            "765/765 [==============================] - 161s 210ms/step - loss: 0.0299 - accuracy: 0.9924 - val_loss: 1.1219 - val_accuracy: 0.8107\n"
          ]
        }
      ]
    },
    {
      "cell_type": "markdown",
      "source": [
        "Evaluate the model on the test set"
      ],
      "metadata": {
        "id": "6Rgkhtc8-APW"
      }
    },
    {
      "cell_type": "code",
      "source": [
        "test_loss, test_accuracy = modeel_res.evaluate(test_generator, steps=validation_steps)\n",
        "print(f\"Test loss: {test_loss:.4f}\")\n",
        "print(f\"Test accuracy: {test_accuracy:.4f}\")\n"
      ],
      "metadata": {
        "colab": {
          "base_uri": "https://localhost:8080/"
        },
        "id": "MQbv0hUj-B2o",
        "outputId": "01d974be-283e-48d7-fa70-e92baf662c2a"
      },
      "execution_count": 10,
      "outputs": [
        {
          "output_type": "stream",
          "name": "stdout",
          "text": [
            "191/191 [==============================] - 31s 162ms/step - loss: 1.1219 - accuracy: 0.8107\n",
            "Test loss: 1.1219\n",
            "Test accuracy: 0.8107\n"
          ]
        }
      ]
    }
  ]
}